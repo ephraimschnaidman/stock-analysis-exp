{
 "cells": [
  {
   "cell_type": "code",
   "execution_count": 63,
   "metadata": {},
   "outputs": [],
   "source": [
    "from pandas_datareader import data\n",
    "import datetime\n",
    "from bokeh.plotting import figure, show, output_file\n",
    "from bokeh.embed import components\n",
    "from bokeh.resources import CDN\n",
    "\n",
    "start = datetime.datetime(2016,11,1)\n",
    "end = datetime.datetime(2017,3,10)\n",
    "\n",
    "df=data.DataReader(name=\"GOOG\", data_source=\"yahoo\", start=start, end=end)\n",
    "\n",
    "def inc_dec(c,o):\n",
    "    if c > o:\n",
    "        value = \"Increase\"\n",
    "    elif c < o:\n",
    "        value = \"Decrease\"\n",
    "    else:\n",
    "        value = \"Equal\"\n",
    "    return value\n",
    "\n",
    "df[\"Status\"]=[inc_dec(c,o) for c, o in zip(df.Close,df.Open)]\n",
    "\n",
    "df[\"Middle\"]=(df.Open+df.Close)/2\n",
    "df[\"Height\"]=abs(df.Close-df.Open)\n",
    "\n",
    "p=figure(x_axis_type='datetime', width=1000, height=300, responsive=True)\n",
    "p.title.text=\"Candlestick Chart\"\n",
    "p.grid.grid_line_alpha=0.3\n",
    "\n",
    "hours_12=12*60*60*1000\n",
    "\n",
    "p.segment(df.index, df.High, df.index, df.Low, color=\"black\")\n",
    "\n",
    "p.rect(df.index[df.Status==\"Increase\"],df.Middle[df.Status==\"Increase\"], hours_12, \n",
    "       df.Height[df.Status==\"Increase\"], fill_color = \"#CCFFFF\",line_color = \"black\")\n",
    "\n",
    "p.rect(df.index[df.Status==\"Decrease\"],df.Middle[df.Status==\"Decrease\"], hours_12,\n",
    "       df.Height[df.Status==\"Decrease\"], fill_color = \"#FF3333\",line_color = \"black\")\n",
    "\n",
    "\n",
    "script1, div1 = components(p)\n",
    "\n",
    "cdn_js=CDN.js_files\n",
    "cdn_css=CDN.css_files\n",
    "\n",
    "#output_file(\"Candlestick.html\")\n",
    "#show(p)"
   ]
  },
  {
   "cell_type": "code",
   "execution_count": 62,
   "metadata": {},
   "outputs": [
    {
     "name": "stdout",
     "output_type": "stream",
     "text": [
      "\n",
      "<div class=\"bk-root\">\n",
      "    <div class=\"bk-plotdiv\" id=\"35237785-1818-46da-9ea6-4593ad78892e\"></div>\n",
      "</div>\n"
     ]
    }
   ],
   "source": [
    "print(div1)"
   ]
  },
  {
   "cell_type": "code",
   "execution_count": 67,
   "metadata": {},
   "outputs": [
    {
     "data": {
      "text/plain": [
       "u'https://cdn.pydata.org/bokeh/release/bokeh-0.12.5.min.js'"
      ]
     },
     "execution_count": 67,
     "metadata": {},
     "output_type": "execute_result"
    }
   ],
   "source": [
    "cdn_js[0]"
   ]
  },
  {
   "cell_type": "code",
   "execution_count": 68,
   "metadata": {},
   "outputs": [
    {
     "data": {
      "text/plain": [
       "u'https://cdn.pydata.org/bokeh/release/bokeh-0.12.5.min.css'"
      ]
     },
     "execution_count": 68,
     "metadata": {},
     "output_type": "execute_result"
    }
   ],
   "source": [
    "cdn_css[0]"
   ]
  },
  {
   "cell_type": "code",
   "execution_count": null,
   "metadata": {
    "collapsed": true
   },
   "outputs": [],
   "source": []
  }
 ],
 "metadata": {
  "kernelspec": {
   "display_name": "Python 3",
   "language": "python",
   "name": "python3"
  },
  "language_info": {
   "codemirror_mode": {
    "name": "ipython",
    "version": 2
   },
   "file_extension": ".py",
   "mimetype": "text/x-python",
   "name": "python",
   "nbconvert_exporter": "python",
   "pygments_lexer": "ipython2",
   "version": "2.7.14"
  }
 },
 "nbformat": 4,
 "nbformat_minor": 2
}
